{
 "cells": [
  {
   "cell_type": "code",
   "execution_count": 1,
   "metadata": {},
   "outputs": [],
   "source": [
    "import pandas as pd\n",
    "import numpy as np\n",
    "import seaborn as sns\n",
    "import matplotlib.pyplot as plt\n",
    "import warnings\n",
    "%matplotlib inline\n",
    "\n",
    "\n",
    "warnings.filterwarnings('ignore')"
   ]
  },
  {
   "cell_type": "code",
   "execution_count": 2,
   "metadata": {},
   "outputs": [],
   "source": [
    "## Read the data\n",
    "df = pd.read_csv('Bank_Personal_Loan_Modelling.csv')"
   ]
  },
  {
   "cell_type": "code",
   "execution_count": 3,
   "metadata": {},
   "outputs": [
    {
     "data": {
      "text/html": [
       "<div>\n",
       "<style scoped>\n",
       "    .dataframe tbody tr th:only-of-type {\n",
       "        vertical-align: middle;\n",
       "    }\n",
       "\n",
       "    .dataframe tbody tr th {\n",
       "        vertical-align: top;\n",
       "    }\n",
       "\n",
       "    .dataframe thead th {\n",
       "        text-align: right;\n",
       "    }\n",
       "</style>\n",
       "<table border=\"1\" class=\"dataframe\">\n",
       "  <thead>\n",
       "    <tr style=\"text-align: right;\">\n",
       "      <th></th>\n",
       "      <th>ID</th>\n",
       "      <th>Age</th>\n",
       "      <th>Experience</th>\n",
       "      <th>Income</th>\n",
       "      <th>ZIP Code</th>\n",
       "      <th>Family</th>\n",
       "      <th>CCAvg</th>\n",
       "      <th>Education</th>\n",
       "      <th>Mortgage</th>\n",
       "      <th>Personal Loan</th>\n",
       "      <th>Securities Account</th>\n",
       "      <th>CD Account</th>\n",
       "      <th>Online</th>\n",
       "      <th>CreditCard</th>\n",
       "    </tr>\n",
       "  </thead>\n",
       "  <tbody>\n",
       "    <tr>\n",
       "      <th>0</th>\n",
       "      <td>1</td>\n",
       "      <td>25</td>\n",
       "      <td>1</td>\n",
       "      <td>49</td>\n",
       "      <td>91107</td>\n",
       "      <td>4</td>\n",
       "      <td>1.6</td>\n",
       "      <td>1</td>\n",
       "      <td>0</td>\n",
       "      <td>0</td>\n",
       "      <td>1</td>\n",
       "      <td>0</td>\n",
       "      <td>0</td>\n",
       "      <td>0</td>\n",
       "    </tr>\n",
       "    <tr>\n",
       "      <th>1</th>\n",
       "      <td>2</td>\n",
       "      <td>45</td>\n",
       "      <td>19</td>\n",
       "      <td>34</td>\n",
       "      <td>90089</td>\n",
       "      <td>3</td>\n",
       "      <td>1.5</td>\n",
       "      <td>1</td>\n",
       "      <td>0</td>\n",
       "      <td>0</td>\n",
       "      <td>1</td>\n",
       "      <td>0</td>\n",
       "      <td>0</td>\n",
       "      <td>0</td>\n",
       "    </tr>\n",
       "    <tr>\n",
       "      <th>2</th>\n",
       "      <td>3</td>\n",
       "      <td>39</td>\n",
       "      <td>15</td>\n",
       "      <td>11</td>\n",
       "      <td>94720</td>\n",
       "      <td>1</td>\n",
       "      <td>1.0</td>\n",
       "      <td>1</td>\n",
       "      <td>0</td>\n",
       "      <td>0</td>\n",
       "      <td>0</td>\n",
       "      <td>0</td>\n",
       "      <td>0</td>\n",
       "      <td>0</td>\n",
       "    </tr>\n",
       "    <tr>\n",
       "      <th>3</th>\n",
       "      <td>4</td>\n",
       "      <td>35</td>\n",
       "      <td>9</td>\n",
       "      <td>100</td>\n",
       "      <td>94112</td>\n",
       "      <td>1</td>\n",
       "      <td>2.7</td>\n",
       "      <td>2</td>\n",
       "      <td>0</td>\n",
       "      <td>0</td>\n",
       "      <td>0</td>\n",
       "      <td>0</td>\n",
       "      <td>0</td>\n",
       "      <td>0</td>\n",
       "    </tr>\n",
       "    <tr>\n",
       "      <th>4</th>\n",
       "      <td>5</td>\n",
       "      <td>35</td>\n",
       "      <td>8</td>\n",
       "      <td>45</td>\n",
       "      <td>91330</td>\n",
       "      <td>4</td>\n",
       "      <td>1.0</td>\n",
       "      <td>2</td>\n",
       "      <td>0</td>\n",
       "      <td>0</td>\n",
       "      <td>0</td>\n",
       "      <td>0</td>\n",
       "      <td>0</td>\n",
       "      <td>1</td>\n",
       "    </tr>\n",
       "  </tbody>\n",
       "</table>\n",
       "</div>"
      ],
      "text/plain": [
       "   ID  Age  Experience  Income  ZIP Code  Family  CCAvg  Education  Mortgage  \\\n",
       "0   1   25           1      49     91107       4    1.6          1         0   \n",
       "1   2   45          19      34     90089       3    1.5          1         0   \n",
       "2   3   39          15      11     94720       1    1.0          1         0   \n",
       "3   4   35           9     100     94112       1    2.7          2         0   \n",
       "4   5   35           8      45     91330       4    1.0          2         0   \n",
       "\n",
       "   Personal Loan  Securities Account  CD Account  Online  CreditCard  \n",
       "0              0                   1           0       0           0  \n",
       "1              0                   1           0       0           0  \n",
       "2              0                   0           0       0           0  \n",
       "3              0                   0           0       0           0  \n",
       "4              0                   0           0       0           1  "
      ]
     },
     "execution_count": 3,
     "metadata": {},
     "output_type": "execute_result"
    }
   ],
   "source": [
    "df.head()"
   ]
  },
  {
   "cell_type": "markdown",
   "metadata": {},
   "source": [
    "## Feature Information\n",
    "- ID : Customer ID\n",
    "\n",
    "\n",
    "- Age : Customer's age in completed years\n",
    "\n",
    "\n",
    "- Experience : No. of years of professional experience\n",
    "\n",
    "\n",
    "- Income : Annual income of the customer ($ 000)\n",
    "\n",
    "\n",
    "- ZIP Code : Home Address Zip Code\n",
    "\n",
    "\n",
    "- Family : Family size of the customer\n",
    "\n",
    "\n",
    "- CCAvg : Avg. Spending on Credit Card per Month ($ 000)\n",
    "\n",
    "\n",
    "- Education : Education Level. 1: Undergrad; 2: Graduate; 3: Advanced / Professional\n",
    "\n",
    "\n",
    "- Mortgage : Value of house mortgage if any. ($000)\n",
    "\n",
    "\n",
    "- Personal Loan : Did this customer accept the personal loan offered in the last campaign?\n",
    "\n",
    "\n",
    "- Securities Account : Does the customer have a securities account with the bank?\n",
    "\n",
    "\n",
    "- CD Account : Does the customer have a certificate of deposit (CD) account with the bank?\n",
    "\n",
    "\n",
    "- Online : Does the customer use internet banking facilities?\n",
    "\n",
    "\n",
    "- Credit card : Does the customer use a credit card issued by this Bank?"
   ]
  },
  {
   "cell_type": "code",
   "execution_count": 4,
   "metadata": {},
   "outputs": [
    {
     "data": {
      "text/plain": [
       "2047    1\n",
       "2608    1\n",
       "4647    1\n",
       "2600    1\n",
       "553     1\n",
       "       ..\n",
       "3263    1\n",
       "1218    1\n",
       "3267    1\n",
       "1222    1\n",
       "2049    1\n",
       "Name: ID, Length: 5000, dtype: int64"
      ]
     },
     "execution_count": 4,
     "metadata": {},
     "output_type": "execute_result"
    }
   ],
   "source": [
    "df['ID'].value_counts()"
   ]
  },
  {
   "cell_type": "code",
   "execution_count": 5,
   "metadata": {},
   "outputs": [],
   "source": [
    "df.drop(['ID', 'ZIP Code',], axis = 1, inplace = True)\n",
    "# we drop this 2 feature since this model will be used for future predictions, thus we don't need this 2 feature."
   ]
  },
  {
   "cell_type": "code",
   "execution_count": 6,
   "metadata": {},
   "outputs": [
    {
     "data": {
      "text/html": [
       "<div>\n",
       "<style scoped>\n",
       "    .dataframe tbody tr th:only-of-type {\n",
       "        vertical-align: middle;\n",
       "    }\n",
       "\n",
       "    .dataframe tbody tr th {\n",
       "        vertical-align: top;\n",
       "    }\n",
       "\n",
       "    .dataframe thead th {\n",
       "        text-align: right;\n",
       "    }\n",
       "</style>\n",
       "<table border=\"1\" class=\"dataframe\">\n",
       "  <thead>\n",
       "    <tr style=\"text-align: right;\">\n",
       "      <th></th>\n",
       "      <th>Age</th>\n",
       "      <th>Experience</th>\n",
       "      <th>Income</th>\n",
       "      <th>Family</th>\n",
       "      <th>CCAvg</th>\n",
       "      <th>Education</th>\n",
       "      <th>Mortgage</th>\n",
       "      <th>Personal Loan</th>\n",
       "      <th>Securities Account</th>\n",
       "      <th>CD Account</th>\n",
       "      <th>Online</th>\n",
       "      <th>CreditCard</th>\n",
       "    </tr>\n",
       "  </thead>\n",
       "  <tbody>\n",
       "    <tr>\n",
       "      <th>0</th>\n",
       "      <td>25</td>\n",
       "      <td>1</td>\n",
       "      <td>49</td>\n",
       "      <td>4</td>\n",
       "      <td>1.6</td>\n",
       "      <td>1</td>\n",
       "      <td>0</td>\n",
       "      <td>0</td>\n",
       "      <td>1</td>\n",
       "      <td>0</td>\n",
       "      <td>0</td>\n",
       "      <td>0</td>\n",
       "    </tr>\n",
       "    <tr>\n",
       "      <th>1</th>\n",
       "      <td>45</td>\n",
       "      <td>19</td>\n",
       "      <td>34</td>\n",
       "      <td>3</td>\n",
       "      <td>1.5</td>\n",
       "      <td>1</td>\n",
       "      <td>0</td>\n",
       "      <td>0</td>\n",
       "      <td>1</td>\n",
       "      <td>0</td>\n",
       "      <td>0</td>\n",
       "      <td>0</td>\n",
       "    </tr>\n",
       "    <tr>\n",
       "      <th>2</th>\n",
       "      <td>39</td>\n",
       "      <td>15</td>\n",
       "      <td>11</td>\n",
       "      <td>1</td>\n",
       "      <td>1.0</td>\n",
       "      <td>1</td>\n",
       "      <td>0</td>\n",
       "      <td>0</td>\n",
       "      <td>0</td>\n",
       "      <td>0</td>\n",
       "      <td>0</td>\n",
       "      <td>0</td>\n",
       "    </tr>\n",
       "    <tr>\n",
       "      <th>3</th>\n",
       "      <td>35</td>\n",
       "      <td>9</td>\n",
       "      <td>100</td>\n",
       "      <td>1</td>\n",
       "      <td>2.7</td>\n",
       "      <td>2</td>\n",
       "      <td>0</td>\n",
       "      <td>0</td>\n",
       "      <td>0</td>\n",
       "      <td>0</td>\n",
       "      <td>0</td>\n",
       "      <td>0</td>\n",
       "    </tr>\n",
       "    <tr>\n",
       "      <th>4</th>\n",
       "      <td>35</td>\n",
       "      <td>8</td>\n",
       "      <td>45</td>\n",
       "      <td>4</td>\n",
       "      <td>1.0</td>\n",
       "      <td>2</td>\n",
       "      <td>0</td>\n",
       "      <td>0</td>\n",
       "      <td>0</td>\n",
       "      <td>0</td>\n",
       "      <td>0</td>\n",
       "      <td>1</td>\n",
       "    </tr>\n",
       "  </tbody>\n",
       "</table>\n",
       "</div>"
      ],
      "text/plain": [
       "   Age  Experience  Income  Family  CCAvg  Education  Mortgage  Personal Loan  \\\n",
       "0   25           1      49       4    1.6          1         0              0   \n",
       "1   45          19      34       3    1.5          1         0              0   \n",
       "2   39          15      11       1    1.0          1         0              0   \n",
       "3   35           9     100       1    2.7          2         0              0   \n",
       "4   35           8      45       4    1.0          2         0              0   \n",
       "\n",
       "   Securities Account  CD Account  Online  CreditCard  \n",
       "0                   1           0       0           0  \n",
       "1                   1           0       0           0  \n",
       "2                   0           0       0           0  \n",
       "3                   0           0       0           0  \n",
       "4                   0           0       0           1  "
      ]
     },
     "execution_count": 6,
     "metadata": {},
     "output_type": "execute_result"
    }
   ],
   "source": [
    "df.head()"
   ]
  },
  {
   "cell_type": "code",
   "execution_count": 7,
   "metadata": {},
   "outputs": [
    {
     "name": "stdout",
     "output_type": "stream",
     "text": [
      "<class 'pandas.core.frame.DataFrame'>\n",
      "RangeIndex: 5000 entries, 0 to 4999\n",
      "Data columns (total 12 columns):\n",
      " #   Column              Non-Null Count  Dtype  \n",
      "---  ------              --------------  -----  \n",
      " 0   Age                 5000 non-null   int64  \n",
      " 1   Experience          5000 non-null   int64  \n",
      " 2   Income              5000 non-null   int64  \n",
      " 3   Family              5000 non-null   int64  \n",
      " 4   CCAvg               5000 non-null   float64\n",
      " 5   Education           5000 non-null   int64  \n",
      " 6   Mortgage            5000 non-null   int64  \n",
      " 7   Personal Loan       5000 non-null   int64  \n",
      " 8   Securities Account  5000 non-null   int64  \n",
      " 9   CD Account          5000 non-null   int64  \n",
      " 10  Online              5000 non-null   int64  \n",
      " 11  CreditCard          5000 non-null   int64  \n",
      "dtypes: float64(1), int64(11)\n",
      "memory usage: 468.9 KB\n"
     ]
    }
   ],
   "source": [
    "df.info()\n",
    "# there are no null value in dataframe"
   ]
  },
  {
   "cell_type": "code",
   "execution_count": 8,
   "metadata": {},
   "outputs": [],
   "source": [
    "#in info we can see there are some categorical feature read as continous variable, \n",
    "# we change that feature to categorical variable.\n",
    "for i in ['Family', 'Education', 'Securities Account', 'CD Account',\n",
    "          'Online', 'CreditCard']:\n",
    "    df[i] = df[i].astype('object')"
   ]
  },
  {
   "cell_type": "code",
   "execution_count": 9,
   "metadata": {},
   "outputs": [
    {
     "data": {
      "text/html": [
       "<div>\n",
       "<style scoped>\n",
       "    .dataframe tbody tr th:only-of-type {\n",
       "        vertical-align: middle;\n",
       "    }\n",
       "\n",
       "    .dataframe tbody tr th {\n",
       "        vertical-align: top;\n",
       "    }\n",
       "\n",
       "    .dataframe thead th {\n",
       "        text-align: right;\n",
       "    }\n",
       "</style>\n",
       "<table border=\"1\" class=\"dataframe\">\n",
       "  <thead>\n",
       "    <tr style=\"text-align: right;\">\n",
       "      <th></th>\n",
       "      <th>Age</th>\n",
       "      <th>Experience</th>\n",
       "      <th>Income</th>\n",
       "      <th>CCAvg</th>\n",
       "      <th>Mortgage</th>\n",
       "      <th>Personal Loan</th>\n",
       "    </tr>\n",
       "  </thead>\n",
       "  <tbody>\n",
       "    <tr>\n",
       "      <th>count</th>\n",
       "      <td>5000.000000</td>\n",
       "      <td>5000.000000</td>\n",
       "      <td>5000.000000</td>\n",
       "      <td>5000.000000</td>\n",
       "      <td>5000.000000</td>\n",
       "      <td>5000.000000</td>\n",
       "    </tr>\n",
       "    <tr>\n",
       "      <th>mean</th>\n",
       "      <td>45.338400</td>\n",
       "      <td>20.104600</td>\n",
       "      <td>73.774200</td>\n",
       "      <td>1.937938</td>\n",
       "      <td>56.498800</td>\n",
       "      <td>0.096000</td>\n",
       "    </tr>\n",
       "    <tr>\n",
       "      <th>std</th>\n",
       "      <td>11.463166</td>\n",
       "      <td>11.467954</td>\n",
       "      <td>46.033729</td>\n",
       "      <td>1.747659</td>\n",
       "      <td>101.713802</td>\n",
       "      <td>0.294621</td>\n",
       "    </tr>\n",
       "    <tr>\n",
       "      <th>min</th>\n",
       "      <td>23.000000</td>\n",
       "      <td>-3.000000</td>\n",
       "      <td>8.000000</td>\n",
       "      <td>0.000000</td>\n",
       "      <td>0.000000</td>\n",
       "      <td>0.000000</td>\n",
       "    </tr>\n",
       "    <tr>\n",
       "      <th>25%</th>\n",
       "      <td>35.000000</td>\n",
       "      <td>10.000000</td>\n",
       "      <td>39.000000</td>\n",
       "      <td>0.700000</td>\n",
       "      <td>0.000000</td>\n",
       "      <td>0.000000</td>\n",
       "    </tr>\n",
       "    <tr>\n",
       "      <th>50%</th>\n",
       "      <td>45.000000</td>\n",
       "      <td>20.000000</td>\n",
       "      <td>64.000000</td>\n",
       "      <td>1.500000</td>\n",
       "      <td>0.000000</td>\n",
       "      <td>0.000000</td>\n",
       "    </tr>\n",
       "    <tr>\n",
       "      <th>75%</th>\n",
       "      <td>55.000000</td>\n",
       "      <td>30.000000</td>\n",
       "      <td>98.000000</td>\n",
       "      <td>2.500000</td>\n",
       "      <td>101.000000</td>\n",
       "      <td>0.000000</td>\n",
       "    </tr>\n",
       "    <tr>\n",
       "      <th>max</th>\n",
       "      <td>67.000000</td>\n",
       "      <td>43.000000</td>\n",
       "      <td>224.000000</td>\n",
       "      <td>10.000000</td>\n",
       "      <td>635.000000</td>\n",
       "      <td>1.000000</td>\n",
       "    </tr>\n",
       "  </tbody>\n",
       "</table>\n",
       "</div>"
      ],
      "text/plain": [
       "               Age   Experience       Income        CCAvg     Mortgage  \\\n",
       "count  5000.000000  5000.000000  5000.000000  5000.000000  5000.000000   \n",
       "mean     45.338400    20.104600    73.774200     1.937938    56.498800   \n",
       "std      11.463166    11.467954    46.033729     1.747659   101.713802   \n",
       "min      23.000000    -3.000000     8.000000     0.000000     0.000000   \n",
       "25%      35.000000    10.000000    39.000000     0.700000     0.000000   \n",
       "50%      45.000000    20.000000    64.000000     1.500000     0.000000   \n",
       "75%      55.000000    30.000000    98.000000     2.500000   101.000000   \n",
       "max      67.000000    43.000000   224.000000    10.000000   635.000000   \n",
       "\n",
       "       Personal Loan  \n",
       "count    5000.000000  \n",
       "mean        0.096000  \n",
       "std         0.294621  \n",
       "min         0.000000  \n",
       "25%         0.000000  \n",
       "50%         0.000000  \n",
       "75%         0.000000  \n",
       "max         1.000000  "
      ]
     },
     "execution_count": 9,
     "metadata": {},
     "output_type": "execute_result"
    }
   ],
   "source": [
    "df.describe()"
   ]
  },
  {
   "cell_type": "markdown",
   "metadata": {},
   "source": [
    "Some Observation:\n",
    "- Average age of our customer that participated on this Personal Loan Campaign is 45 years old.\n",
    "- Average working experience of our customer that participated on this Personal Loan Campaign is 20 years old.\n",
    "- There are -3 value in experience feature, that doesnt make sense since the lowest value should be 0 if the customer doesnt have working experience.\n",
    "- Average usage of our customer (who have CC) that participated on this Personal Loan Campaign is 1900 US Dollar/month.\n",
    "- Average income of our customer that participated on this Personal Loan Campaign is 73000 US Dollar/year."
   ]
  },
  {
   "cell_type": "code",
   "execution_count": 10,
   "metadata": {},
   "outputs": [
    {
     "data": {
      "text/html": [
       "<div>\n",
       "<style scoped>\n",
       "    .dataframe tbody tr th:only-of-type {\n",
       "        vertical-align: middle;\n",
       "    }\n",
       "\n",
       "    .dataframe tbody tr th {\n",
       "        vertical-align: top;\n",
       "    }\n",
       "\n",
       "    .dataframe thead th {\n",
       "        text-align: right;\n",
       "    }\n",
       "</style>\n",
       "<table border=\"1\" class=\"dataframe\">\n",
       "  <thead>\n",
       "    <tr style=\"text-align: right;\">\n",
       "      <th></th>\n",
       "      <th>Family</th>\n",
       "      <th>Education</th>\n",
       "      <th>Securities Account</th>\n",
       "      <th>CD Account</th>\n",
       "      <th>Online</th>\n",
       "      <th>CreditCard</th>\n",
       "    </tr>\n",
       "  </thead>\n",
       "  <tbody>\n",
       "    <tr>\n",
       "      <th>count</th>\n",
       "      <td>5000</td>\n",
       "      <td>5000</td>\n",
       "      <td>5000</td>\n",
       "      <td>5000</td>\n",
       "      <td>5000</td>\n",
       "      <td>5000</td>\n",
       "    </tr>\n",
       "    <tr>\n",
       "      <th>unique</th>\n",
       "      <td>4</td>\n",
       "      <td>3</td>\n",
       "      <td>2</td>\n",
       "      <td>2</td>\n",
       "      <td>2</td>\n",
       "      <td>2</td>\n",
       "    </tr>\n",
       "    <tr>\n",
       "      <th>top</th>\n",
       "      <td>1</td>\n",
       "      <td>1</td>\n",
       "      <td>0</td>\n",
       "      <td>0</td>\n",
       "      <td>1</td>\n",
       "      <td>0</td>\n",
       "    </tr>\n",
       "    <tr>\n",
       "      <th>freq</th>\n",
       "      <td>1472</td>\n",
       "      <td>2096</td>\n",
       "      <td>4478</td>\n",
       "      <td>4698</td>\n",
       "      <td>2984</td>\n",
       "      <td>3530</td>\n",
       "    </tr>\n",
       "  </tbody>\n",
       "</table>\n",
       "</div>"
      ],
      "text/plain": [
       "        Family  Education  Securities Account  CD Account  Online  CreditCard\n",
       "count     5000       5000                5000        5000    5000        5000\n",
       "unique       4          3                   2           2       2           2\n",
       "top          1          1                   0           0       1           0\n",
       "freq      1472       2096                4478        4698    2984        3530"
      ]
     },
     "execution_count": 10,
     "metadata": {},
     "output_type": "execute_result"
    }
   ],
   "source": [
    "df.describe(exclude = 'number')"
   ]
  },
  {
   "cell_type": "code",
   "execution_count": 11,
   "metadata": {},
   "outputs": [
    {
     "data": {
      "text/plain": [
       "0    4520\n",
       "1     480\n",
       "Name: Personal Loan, dtype: int64"
      ]
     },
     "execution_count": 11,
     "metadata": {},
     "output_type": "execute_result"
    }
   ],
   "source": [
    "df['Personal Loan'].value_counts()"
   ]
  },
  {
   "cell_type": "code",
   "execution_count": 12,
   "metadata": {},
   "outputs": [
    {
     "data": {
      "text/plain": [
       "['Family',\n",
       " 'Education',\n",
       " 'Securities Account',\n",
       " 'CD Account',\n",
       " 'Online',\n",
       " 'CreditCard']"
      ]
     },
     "execution_count": 12,
     "metadata": {},
     "output_type": "execute_result"
    }
   ],
   "source": [
    "categorical_columns = df.select_dtypes('object').columns\n",
    "cat_col = list(categorical_columns)\n",
    "cat_col"
   ]
  },
  {
   "cell_type": "code",
   "execution_count": 13,
   "metadata": {
    "scrolled": false
   },
   "outputs": [
    {
     "data": {
      "image/png": "[encoded data removed]",
      "text/plain": [
       "<Figure size 576x2160 with 6 Axes>"
      ]
     },
     "metadata": {},
     "output_type": "display_data"
    }
   ],
   "source": [
    "sns.set_style('whitegrid')\n",
    "\n",
    "plt.figure(figsize = (8,30))\n",
    "for i in range(len(cat_col)):\n",
    "    plt.subplot(len(cat_col)+1,1,i+1)\n",
    "    ax = sns.countplot(x = cat_col[i], hue = 'Personal Loan', data = df)\n",
    "    for p in ax.patches:\n",
    "        ax.annotate(p.get_height(), (p.get_x() + p.get_width() / 2., p.get_height()), \n",
    "                    ha='center', va='center', xytext=(0, 3), textcoords='offset points')\n",
    "    ax.legend(['Not Accept Loan', 'Accept Loan'])\n",
    "plt.tight_layout()"
   ]
  },
  {
   "cell_type": "code",
   "execution_count": 14,
   "metadata": {},
   "outputs": [
    {
     "data": {
      "text/plain": [
       "['Age', 'Experience', 'Income', 'CCAvg', 'Mortgage']"
      ]
     },
     "execution_count": 14,
     "metadata": {},
     "output_type": "execute_result"
    }
   ],
   "source": [
    "numerical_columns = df.select_dtypes(exclude='object').columns\n",
    "num_col = list(numerical_columns)\n",
    "num_col.remove('Personal Loan')\n",
    "num_col"
   ]
  },
  {
   "cell_type": "code",
   "execution_count": 15,
   "metadata": {
    "scrolled": false
   },
   "outputs": [
    {
     "data": {
      "image/png": "[encoded data removed]",
      "text/plain": [
       "<Figure size 432x1080 with 5 Axes>"
      ]
     },
     "metadata": {},
     "output_type": "display_data"
    }
   ],
   "source": [
    "plt.figure(figsize = (6,15))\n",
    "for i in range(len(num_col)):\n",
    "    plt.subplot(len(num_col)+1,1,i+1)\n",
    "    sns.distplot(df[df['Personal Loan'] == 1][num_col[i]], label = 'Accept Loan')\n",
    "    plt.subplot(len(num_col)+1,1,i+1)\n",
    "    sns.distplot(df[df['Personal Loan'] == 0][num_col[i]], label = 'Not Accept Loan')\n",
    "    plt.legend()\n",
    "plt.tight_layout()"
   ]
  },
  {
   "cell_type": "markdown",
   "metadata": {},
   "source": [
    "Some Observation:\n",
    "- from categorical plot customer who have online mobile banking and dont have Credit card are more likely accept personal loan.\n",
    "- from numerical plot:\n",
    "    1. Customer who have income > 100.000 US Dollar/year are more likely accept Personal Loan\n",
    "    2. Customer who have Average CC usage >= 3000 US Dollar are more likely accept Personal Loan"
   ]
  },
  {
   "cell_type": "code",
   "execution_count": 16,
   "metadata": {},
   "outputs": [
    {
     "data": {
      "text/plain": [
       "52"
      ]
     },
     "execution_count": 16,
     "metadata": {},
     "output_type": "execute_result"
    }
   ],
   "source": [
    "## fix -3 value from experience feature on our data frame\n",
    "len(df[(df['Experience'] < 0)])"
   ]
  },
  {
   "cell_type": "markdown",
   "metadata": {},
   "source": [
    "## Supervised modelling"
   ]
  },
  {
   "cell_type": "code",
   "execution_count": 17,
   "metadata": {},
   "outputs": [],
   "source": [
    "data_dummy = pd.get_dummies(df.drop(['Personal Loan'], axis = 1), drop_first = True)"
   ]
  },
  {
   "cell_type": "code",
   "execution_count": 18,
   "metadata": {
    "scrolled": false
   },
   "outputs": [
    {
     "data": {
      "text/plain": [
       "(array([ 0,  1,  2,  3,  4,  5,  6,  7,  8,  9, 10, 11, 12, 13]),\n",
       " <a list of 14 Text xticklabel objects>)"
      ]
     },
     "execution_count": 18,
     "metadata": {},
     "output_type": "execute_result"
    },
    {
     "data": {
      "image/png": "[encoded data removed]",
      "text/plain": [
       "<Figure size 576x576 with 1 Axes>"
      ]
     },
     "metadata": {},
     "output_type": "display_data"
    }
   ],
   "source": [
    "plt.figure(figsize = (8,8))\n",
    "sns.boxplot(data = data_dummy)\n",
    "plt.xticks(rotation = 90)"
   ]
  },
  {
   "cell_type": "code",
   "execution_count": 19,
   "metadata": {},
   "outputs": [
    {
     "data": {
      "text/html": [
       "<div>\n",
       "<style scoped>\n",
       "    .dataframe tbody tr th:only-of-type {\n",
       "        vertical-align: middle;\n",
       "    }\n",
       "\n",
       "    .dataframe tbody tr th {\n",
       "        vertical-align: top;\n",
       "    }\n",
       "\n",
       "    .dataframe thead th {\n",
       "        text-align: right;\n",
       "    }\n",
       "</style>\n",
       "<table border=\"1\" class=\"dataframe\">\n",
       "  <thead>\n",
       "    <tr style=\"text-align: right;\">\n",
       "      <th></th>\n",
       "      <th>Age</th>\n",
       "      <th>Experience</th>\n",
       "      <th>Income</th>\n",
       "      <th>CCAvg</th>\n",
       "      <th>Mortgage</th>\n",
       "      <th>Family_2</th>\n",
       "      <th>Family_3</th>\n",
       "      <th>Family_4</th>\n",
       "      <th>Education_2</th>\n",
       "      <th>Education_3</th>\n",
       "      <th>Securities Account_1</th>\n",
       "      <th>CD Account_1</th>\n",
       "      <th>Online_1</th>\n",
       "      <th>CreditCard_1</th>\n",
       "    </tr>\n",
       "  </thead>\n",
       "  <tbody>\n",
       "    <tr>\n",
       "      <th>0</th>\n",
       "      <td>-1.774417</td>\n",
       "      <td>-1.666078</td>\n",
       "      <td>-0.538229</td>\n",
       "      <td>-0.193385</td>\n",
       "      <td>-0.555524</td>\n",
       "      <td>-0.591517</td>\n",
       "      <td>-0.503123</td>\n",
       "      <td>1.758310</td>\n",
       "      <td>-0.624538</td>\n",
       "      <td>-0.654965</td>\n",
       "      <td>2.928915</td>\n",
       "      <td>-0.25354</td>\n",
       "      <td>-1.216618</td>\n",
       "      <td>-0.645314</td>\n",
       "    </tr>\n",
       "    <tr>\n",
       "      <th>1</th>\n",
       "      <td>-0.029524</td>\n",
       "      <td>-0.096330</td>\n",
       "      <td>-0.864109</td>\n",
       "      <td>-0.250611</td>\n",
       "      <td>-0.555524</td>\n",
       "      <td>-0.591517</td>\n",
       "      <td>1.987585</td>\n",
       "      <td>-0.568728</td>\n",
       "      <td>-0.624538</td>\n",
       "      <td>-0.654965</td>\n",
       "      <td>2.928915</td>\n",
       "      <td>-0.25354</td>\n",
       "      <td>-1.216618</td>\n",
       "      <td>-0.645314</td>\n",
       "    </tr>\n",
       "    <tr>\n",
       "      <th>2</th>\n",
       "      <td>-0.552992</td>\n",
       "      <td>-0.445163</td>\n",
       "      <td>-1.363793</td>\n",
       "      <td>-0.536736</td>\n",
       "      <td>-0.555524</td>\n",
       "      <td>-0.591517</td>\n",
       "      <td>-0.503123</td>\n",
       "      <td>-0.568728</td>\n",
       "      <td>-0.624538</td>\n",
       "      <td>-0.654965</td>\n",
       "      <td>-0.341423</td>\n",
       "      <td>-0.25354</td>\n",
       "      <td>-1.216618</td>\n",
       "      <td>-0.645314</td>\n",
       "    </tr>\n",
       "    <tr>\n",
       "      <th>3</th>\n",
       "      <td>-0.901970</td>\n",
       "      <td>-0.968413</td>\n",
       "      <td>0.569765</td>\n",
       "      <td>0.436091</td>\n",
       "      <td>-0.555524</td>\n",
       "      <td>-0.591517</td>\n",
       "      <td>-0.503123</td>\n",
       "      <td>-0.568728</td>\n",
       "      <td>1.601185</td>\n",
       "      <td>-0.654965</td>\n",
       "      <td>-0.341423</td>\n",
       "      <td>-0.25354</td>\n",
       "      <td>-1.216618</td>\n",
       "      <td>-0.645314</td>\n",
       "    </tr>\n",
       "    <tr>\n",
       "      <th>4</th>\n",
       "      <td>-0.901970</td>\n",
       "      <td>-1.055621</td>\n",
       "      <td>-0.625130</td>\n",
       "      <td>-0.536736</td>\n",
       "      <td>-0.555524</td>\n",
       "      <td>-0.591517</td>\n",
       "      <td>-0.503123</td>\n",
       "      <td>1.758310</td>\n",
       "      <td>1.601185</td>\n",
       "      <td>-0.654965</td>\n",
       "      <td>-0.341423</td>\n",
       "      <td>-0.25354</td>\n",
       "      <td>-1.216618</td>\n",
       "      <td>1.549632</td>\n",
       "    </tr>\n",
       "  </tbody>\n",
       "</table>\n",
       "</div>"
      ],
      "text/plain": [
       "        Age  Experience    Income     CCAvg  Mortgage  Family_2  Family_3  \\\n",
       "0 -1.774417   -1.666078 -0.538229 -0.193385 -0.555524 -0.591517 -0.503123   \n",
       "1 -0.029524   -0.096330 -0.864109 -0.250611 -0.555524 -0.591517  1.987585   \n",
       "2 -0.552992   -0.445163 -1.363793 -0.536736 -0.555524 -0.591517 -0.503123   \n",
       "3 -0.901970   -0.968413  0.569765  0.436091 -0.555524 -0.591517 -0.503123   \n",
       "4 -0.901970   -1.055621 -0.625130 -0.536736 -0.555524 -0.591517 -0.503123   \n",
       "\n",
       "   Family_4  Education_2  Education_3  Securities Account_1  CD Account_1  \\\n",
       "0  1.758310    -0.624538    -0.654965              2.928915      -0.25354   \n",
       "1 -0.568728    -0.624538    -0.654965              2.928915      -0.25354   \n",
       "2 -0.568728    -0.624538    -0.654965             -0.341423      -0.25354   \n",
       "3 -0.568728     1.601185    -0.654965             -0.341423      -0.25354   \n",
       "4  1.758310     1.601185    -0.654965             -0.341423      -0.25354   \n",
       "\n",
       "   Online_1  CreditCard_1  \n",
       "0 -1.216618     -0.645314  \n",
       "1 -1.216618     -0.645314  \n",
       "2 -1.216618     -0.645314  \n",
       "3 -1.216618     -0.645314  \n",
       "4 -1.216618      1.549632  "
      ]
     },
     "execution_count": 19,
     "metadata": {},
     "output_type": "execute_result"
    }
   ],
   "source": [
    "from sklearn.preprocessing import StandardScaler\n",
    "scaler = StandardScaler()\n",
    "data_scal = scaler.fit_transform(data_dummy)\n",
    "dum_col = data_dummy.columns\n",
    "data_scal = pd.DataFrame(data_scal, columns = dum_col)\n",
    "data_scal.head()"
   ]
  },
  {
   "cell_type": "code",
   "execution_count": 20,
   "metadata": {},
   "outputs": [
    {
     "data": {
      "text/plain": [
       "(array([ 0,  1,  2,  3,  4,  5,  6,  7,  8,  9, 10, 11, 12, 13]),\n",
       " <a list of 14 Text xticklabel objects>)"
      ]
     },
     "execution_count": 20,
     "metadata": {},
     "output_type": "execute_result"
    },
    {
     "data": {
      "image/png": "[encoded data removed]",
      "text/plain": [
       "<Figure size 576x576 with 1 Axes>"
      ]
     },
     "metadata": {},
     "output_type": "display_data"
    }
   ],
   "source": [
    "plt.figure(figsize=(8,8))\n",
    "sns.boxplot(data=data_scal)\n",
    "plt.xticks(rotation = 90)"
   ]
  },
  {
   "cell_type": "code",
   "execution_count": 21,
   "metadata": {},
   "outputs": [],
   "source": [
    "from sklearn.model_selection import train_test_split"
   ]
  },
  {
   "cell_type": "code",
   "execution_count": 22,
   "metadata": {},
   "outputs": [],
   "source": [
    "target = df['Personal Loan']\n",
    "X_train, X_test, y_train, y_test = train_test_split(data_scal, target, test_size = 0.3, random_state = 101)"
   ]
  },
  {
   "cell_type": "markdown",
   "metadata": {},
   "source": [
    "If you remember, we have a case of data imbalance for our Personal Loan feature. We could use SMOTE to try oversampling our data. In this time try use SMOTE to our x_train data but keep it in new variable so we would have 2 different kind of x_train; with and without oversampling."
   ]
  },
  {
   "cell_type": "code",
   "execution_count": 23,
   "metadata": {},
   "outputs": [
    {
     "name": "stderr",
     "output_type": "stream",
     "text": [
      "Using TensorFlow backend.\n"
     ]
    }
   ],
   "source": [
    "from imblearn.over_sampling import SMOTE\n",
    "\n",
    "smote = SMOTE(sampling_strategy = 'minority')\n",
    "X_train_ovsampled, y_train_ovsampled = smote.fit_sample(X_train, y_train)"
   ]
  },
  {
   "cell_type": "code",
   "execution_count": 24,
   "metadata": {
    "scrolled": false
   },
   "outputs": [
    {
     "name": "stdout",
     "output_type": "stream",
     "text": [
      "<class 'pandas.core.frame.DataFrame'>\n",
      "Int64Index: 3500 entries, 2654 to 4959\n",
      "Data columns (total 14 columns):\n",
      " #   Column                Non-Null Count  Dtype  \n",
      "---  ------                --------------  -----  \n",
      " 0   Age                   3500 non-null   float64\n",
      " 1   Experience            3500 non-null   float64\n",
      " 2   Income                3500 non-null   float64\n",
      " 3   CCAvg                 3500 non-null   float64\n",
      " 4   Mortgage              3500 non-null   float64\n",
      " 5   Family_2              3500 non-null   float64\n",
      " 6   Family_3              3500 non-null   float64\n",
      " 7   Family_4              3500 non-null   float64\n",
      " 8   Education_2           3500 non-null   float64\n",
      " 9   Education_3           3500 non-null   float64\n",
      " 10  Securities Account_1  3500 non-null   float64\n",
      " 11  CD Account_1          3500 non-null   float64\n",
      " 12  Online_1              3500 non-null   float64\n",
      " 13  CreditCard_1          3500 non-null   float64\n",
      "dtypes: float64(14)\n",
      "memory usage: 410.2 KB\n"
     ]
    }
   ],
   "source": [
    "X_train.info()"
   ]
  },
  {
   "cell_type": "code",
   "execution_count": 25,
   "metadata": {},
   "outputs": [
    {
     "name": "stdout",
     "output_type": "stream",
     "text": [
      "<class 'pandas.core.frame.DataFrame'>\n",
      "RangeIndex: 6332 entries, 0 to 6331\n",
      "Data columns (total 14 columns):\n",
      " #   Column                Non-Null Count  Dtype  \n",
      "---  ------                --------------  -----  \n",
      " 0   Age                   6332 non-null   float64\n",
      " 1   Experience            6332 non-null   float64\n",
      " 2   Income                6332 non-null   float64\n",
      " 3   CCAvg                 6332 non-null   float64\n",
      " 4   Mortgage              6332 non-null   float64\n",
      " 5   Family_2              6332 non-null   float64\n",
      " 6   Family_3              6332 non-null   float64\n",
      " 7   Family_4              6332 non-null   float64\n",
      " 8   Education_2           6332 non-null   float64\n",
      " 9   Education_3           6332 non-null   float64\n",
      " 10  Securities Account_1  6332 non-null   float64\n",
      " 11  CD Account_1          6332 non-null   float64\n",
      " 12  Online_1              6332 non-null   float64\n",
      " 13  CreditCard_1          6332 non-null   float64\n",
      "dtypes: float64(14)\n",
      "memory usage: 692.7 KB\n"
     ]
    }
   ],
   "source": [
    "X_train_ovsampled.info()"
   ]
  },
  {
   "cell_type": "markdown",
   "metadata": {},
   "source": [
    "## 1. Logistic Regression Model\n",
    "### 1.1 Original Data"
   ]
  },
  {
   "cell_type": "code",
   "execution_count": 26,
   "metadata": {},
   "outputs": [
    {
     "data": {
      "text/plain": [
       "LogisticRegression(C=1.0, class_weight=None, dual=False, fit_intercept=True,\n",
       "                   intercept_scaling=1, l1_ratio=None, max_iter=100,\n",
       "                   multi_class='auto', n_jobs=None, penalty='l2',\n",
       "                   random_state=None, solver='lbfgs', tol=0.0001, verbose=0,\n",
       "                   warm_start=False)"
      ]
     },
     "execution_count": 26,
     "metadata": {},
     "output_type": "execute_result"
    }
   ],
   "source": [
    "from sklearn.linear_model import LogisticRegression\n",
    "\n",
    "## LOGISTIC REGRESSION DEFAULT\n",
    "logreg_model = LogisticRegression()\n",
    "logreg_model.fit(X_train,y_train)"
   ]
  },
  {
   "cell_type": "code",
   "execution_count": 27,
   "metadata": {},
   "outputs": [],
   "source": [
    "logreg_pred = logreg_model.predict(X_test)"
   ]
  },
  {
   "cell_type": "code",
   "execution_count": 28,
   "metadata": {},
   "outputs": [
    {
     "name": "stdout",
     "output_type": "stream",
     "text": [
      "              precision    recall  f1-score   support\n",
      "\n",
      "           0       0.96      0.99      0.98      1354\n",
      "           1       0.89      0.62      0.73       146\n",
      "\n",
      "    accuracy                           0.96      1500\n",
      "   macro avg       0.93      0.80      0.85      1500\n",
      "weighted avg       0.95      0.96      0.95      1500\n",
      "\n"
     ]
    }
   ],
   "source": [
    "from sklearn.metrics import classification_report\n",
    "print(classification_report(y_test,logreg_pred))"
   ]
  },
  {
   "cell_type": "code",
   "execution_count": 29,
   "metadata": {},
   "outputs": [
    {
     "data": {
      "text/plain": [
       "LogisticRegression(C=1.0, class_weight=None, dual=False, fit_intercept=True,\n",
       "                   intercept_scaling=1, l1_ratio=None, max_iter=1000,\n",
       "                   multi_class='auto', n_jobs=None, penalty='l2',\n",
       "                   random_state=None, solver='lbfgs', tol=0.0001, verbose=0,\n",
       "                   warm_start=False)"
      ]
     },
     "execution_count": 29,
     "metadata": {},
     "output_type": "execute_result"
    }
   ],
   "source": [
    "## LOGISTIC REGRESSION MAX_ITER = 1000\n",
    "logreg_model2 = LogisticRegression(max_iter=1000)\n",
    "logreg_model2.fit(X_train,y_train)"
   ]
  },
  {
   "cell_type": "code",
   "execution_count": 30,
   "metadata": {},
   "outputs": [],
   "source": [
    "logreg2_pred = logreg_model2.predict(X_test)"
   ]
  },
  {
   "cell_type": "code",
   "execution_count": 31,
   "metadata": {},
   "outputs": [
    {
     "name": "stdout",
     "output_type": "stream",
     "text": [
      "              precision    recall  f1-score   support\n",
      "\n",
      "           0       0.96      0.99      0.98      1354\n",
      "           1       0.89      0.62      0.73       146\n",
      "\n",
      "    accuracy                           0.96      1500\n",
      "   macro avg       0.93      0.80      0.85      1500\n",
      "weighted avg       0.95      0.96      0.95      1500\n",
      "\n"
     ]
    }
   ],
   "source": [
    "print(classification_report(y_test,logreg2_pred))"
   ]
  },
  {
   "cell_type": "markdown",
   "metadata": {},
   "source": [
    "**---------------------------------------------------------------------------------------------------------------------------------------------------------------------------------------------------------------**"
   ]
  },
  {
   "cell_type": "markdown",
   "metadata": {},
   "source": [
    "### 1.2 Oversampled Data"
   ]
  },
  {
   "cell_type": "code",
   "execution_count": 32,
   "metadata": {},
   "outputs": [
    {
     "data": {
      "text/plain": [
       "LogisticRegression(C=1.0, class_weight=None, dual=False, fit_intercept=True,\n",
       "                   intercept_scaling=1, l1_ratio=None, max_iter=1000,\n",
       "                   multi_class='auto', n_jobs=None, penalty='l2',\n",
       "                   random_state=None, solver='lbfgs', tol=0.0001, verbose=0,\n",
       "                   warm_start=False)"
      ]
     },
     "execution_count": 32,
     "metadata": {},
     "output_type": "execute_result"
    }
   ],
   "source": [
    "logreg_model2.fit(X_train_ovsampled,y_train_ovsampled)"
   ]
  },
  {
   "cell_type": "code",
   "execution_count": 33,
   "metadata": {},
   "outputs": [
    {
     "name": "stdout",
     "output_type": "stream",
     "text": [
      "              precision    recall  f1-score   support\n",
      "\n",
      "           0       0.98      0.92      0.95      1354\n",
      "           1       0.54      0.87      0.66       146\n",
      "\n",
      "    accuracy                           0.91      1500\n",
      "   macro avg       0.76      0.89      0.81      1500\n",
      "weighted avg       0.94      0.91      0.92      1500\n",
      "\n"
     ]
    }
   ],
   "source": [
    "print(classification_report(y_test, logreg_model2.predict(X_test)))"
   ]
  },
  {
   "cell_type": "markdown",
   "metadata": {},
   "source": [
    "**---------------------------------------------------------------------------------------------------------------------------------------------------------------------------------------------------------------**\n",
    "\n",
    "**---------------------------------------------------------------------------------------------------------------------------------------------------------------------------------------------------------------**"
   ]
  },
  {
   "cell_type": "markdown",
   "metadata": {},
   "source": [
    "## 2. Decision Tree Model\n",
    "### 2.1 Original Data"
   ]
  },
  {
   "cell_type": "code",
   "execution_count": 34,
   "metadata": {},
   "outputs": [],
   "source": [
    "from sklearn.tree import DecisionTreeClassifier"
   ]
  },
  {
   "cell_type": "code",
   "execution_count": 35,
   "metadata": {},
   "outputs": [],
   "source": [
    "dtree = DecisionTreeClassifier()"
   ]
  },
  {
   "cell_type": "code",
   "execution_count": 36,
   "metadata": {},
   "outputs": [
    {
     "data": {
      "text/plain": [
       "DecisionTreeClassifier(ccp_alpha=0.0, class_weight=None, criterion='gini',\n",
       "                       max_depth=None, max_features=None, max_leaf_nodes=None,\n",
       "                       min_impurity_decrease=0.0, min_impurity_split=None,\n",
       "                       min_samples_leaf=1, min_samples_split=2,\n",
       "                       min_weight_fraction_leaf=0.0, presort='deprecated',\n",
       "                       random_state=None, splitter='best')"
      ]
     },
     "execution_count": 36,
     "metadata": {},
     "output_type": "execute_result"
    }
   ],
   "source": [
    "dtree.fit(X_train,y_train)"
   ]
  },
  {
   "cell_type": "code",
   "execution_count": 37,
   "metadata": {},
   "outputs": [],
   "source": [
    "dtree_pred = dtree.predict(X_test)"
   ]
  },
  {
   "cell_type": "code",
   "execution_count": 38,
   "metadata": {},
   "outputs": [
    {
     "name": "stdout",
     "output_type": "stream",
     "text": [
      "              precision    recall  f1-score   support\n",
      "\n",
      "           0       0.99      0.99      0.99      1354\n",
      "           1       0.87      0.90      0.89       146\n",
      "\n",
      "    accuracy                           0.98      1500\n",
      "   macro avg       0.93      0.94      0.94      1500\n",
      "weighted avg       0.98      0.98      0.98      1500\n",
      "\n"
     ]
    }
   ],
   "source": [
    "print(classification_report(y_test,dtree_pred))"
   ]
  },
  {
   "cell_type": "markdown",
   "metadata": {},
   "source": [
    "## GridSearchCV"
   ]
  },
  {
   "cell_type": "code",
   "execution_count": 39,
   "metadata": {
    "scrolled": true
   },
   "outputs": [
    {
     "data": {
      "text/plain": [
       "GridSearchCV(cv=5, error_score=nan,\n",
       "             estimator=DecisionTreeClassifier(ccp_alpha=0.0, class_weight=None,\n",
       "                                              criterion='gini', max_depth=None,\n",
       "                                              max_features=None,\n",
       "                                              max_leaf_nodes=None,\n",
       "                                              min_impurity_decrease=0.0,\n",
       "                                              min_impurity_split=None,\n",
       "                                              min_samples_leaf=1,\n",
       "                                              min_samples_split=2,\n",
       "                                              min_weight_fraction_leaf=0.0,\n",
       "                                              presort='deprecated',\n",
       "                                              random_state=None,\n",
       "                                              splitter='best'),\n",
       "             iid='deprecated', n_jobs=-1,\n",
       "             param_grid={'criterion': ['gini', 'entropy'],\n",
       "                         'max_depth': [4, 5, 6, 7, 8, 9, 10, 11, 12, 15, 20, 30,\n",
       "                                       40, 50, 70, 90, 120, 150]},\n",
       "             pre_dispatch='2*n_jobs', refit=True, return_train_score=False,\n",
       "             scoring='precision', verbose=0)"
      ]
     },
     "execution_count": 39,
     "metadata": {},
     "output_type": "execute_result"
    }
   ],
   "source": [
    "from sklearn.model_selection import GridSearchCV\n",
    "\n",
    "search = GridSearchCV(estimator = dtree,\n",
    "                      param_grid = {\n",
    "                          'criterion': ['gini', 'entropy'],\n",
    "                          'max_depth': [4,5,6,7,8,9,10,11,12,15,20,30,40,50,70,90,120,150]\n",
    "                      }, scoring = 'precision',\n",
    "                      cv = 5,\n",
    "                      n_jobs = -1)\n",
    "search.fit(X_train, y_train)"
   ]
  },
  {
   "cell_type": "code",
   "execution_count": 40,
   "metadata": {},
   "outputs": [
    {
     "name": "stdout",
     "output_type": "stream",
     "text": [
      "{'criterion': 'gini', 'max_depth': 4}\n",
      "0.974754767807506\n"
     ]
    }
   ],
   "source": [
    "print(search.best_params_)\n",
    "print(search.best_score_)"
   ]
  },
  {
   "cell_type": "code",
   "execution_count": 41,
   "metadata": {},
   "outputs": [
    {
     "name": "stdout",
     "output_type": "stream",
     "text": [
      "              precision    recall  f1-score   support\n",
      "\n",
      "           0       0.97      1.00      0.98      1354\n",
      "           1       0.95      0.72      0.82       146\n",
      "\n",
      "    accuracy                           0.97      1500\n",
      "   macro avg       0.96      0.86      0.90      1500\n",
      "weighted avg       0.97      0.97      0.97      1500\n",
      "\n"
     ]
    }
   ],
   "source": [
    "print(classification_report(y_test,search.predict(X_test)))"
   ]
  },
  {
   "cell_type": "markdown",
   "metadata": {},
   "source": [
    "**---------------------------------------------------------------------------------------------------------------------------------------------------------------------------------------------------------------**"
   ]
  },
  {
   "cell_type": "markdown",
   "metadata": {},
   "source": [
    "### 2.2 Oversampled Data"
   ]
  },
  {
   "cell_type": "code",
   "execution_count": 42,
   "metadata": {},
   "outputs": [
    {
     "data": {
      "text/plain": [
       "DecisionTreeClassifier(ccp_alpha=0.0, class_weight=None, criterion='gini',\n",
       "                       max_depth=None, max_features=None, max_leaf_nodes=None,\n",
       "                       min_impurity_decrease=0.0, min_impurity_split=None,\n",
       "                       min_samples_leaf=1, min_samples_split=2,\n",
       "                       min_weight_fraction_leaf=0.0, presort='deprecated',\n",
       "                       random_state=None, splitter='best')"
      ]
     },
     "execution_count": 42,
     "metadata": {},
     "output_type": "execute_result"
    }
   ],
   "source": [
    "dtree.fit(X_train_ovsampled,y_train_ovsampled)"
   ]
  },
  {
   "cell_type": "code",
   "execution_count": 43,
   "metadata": {},
   "outputs": [
    {
     "name": "stdout",
     "output_type": "stream",
     "text": [
      "              precision    recall  f1-score   support\n",
      "\n",
      "           0       0.99      0.99      0.99      1354\n",
      "           1       0.87      0.90      0.89       146\n",
      "\n",
      "    accuracy                           0.98      1500\n",
      "   macro avg       0.93      0.94      0.94      1500\n",
      "weighted avg       0.98      0.98      0.98      1500\n",
      "\n"
     ]
    }
   ],
   "source": [
    "print(classification_report(y_test,dtree_pred))"
   ]
  },
  {
   "cell_type": "code",
   "execution_count": 44,
   "metadata": {},
   "outputs": [
    {
     "data": {
      "text/plain": [
       "GridSearchCV(cv=5, error_score=nan,\n",
       "             estimator=DecisionTreeClassifier(ccp_alpha=0.0, class_weight=None,\n",
       "                                              criterion='gini', max_depth=None,\n",
       "                                              max_features=None,\n",
       "                                              max_leaf_nodes=None,\n",
       "                                              min_impurity_decrease=0.0,\n",
       "                                              min_impurity_split=None,\n",
       "                                              min_samples_leaf=1,\n",
       "                                              min_samples_split=2,\n",
       "                                              min_weight_fraction_leaf=0.0,\n",
       "                                              presort='deprecated',\n",
       "                                              random_state=None,\n",
       "                                              splitter='best'),\n",
       "             iid='deprecated', n_jobs=-1,\n",
       "             param_grid={'criterion': ['gini', 'entropy'],\n",
       "                         'max_depth': [4, 5, 6, 7, 8, 9, 10, 11, 12, 15, 20, 30,\n",
       "                                       40, 50, 70, 90, 120, 150]},\n",
       "             pre_dispatch='2*n_jobs', refit=True, return_train_score=False,\n",
       "             scoring='precision', verbose=0)"
      ]
     },
     "execution_count": 44,
     "metadata": {},
     "output_type": "execute_result"
    }
   ],
   "source": [
    "search.fit(X_train_ovsampled, y_train_ovsampled)"
   ]
  },
  {
   "cell_type": "code",
   "execution_count": 45,
   "metadata": {},
   "outputs": [
    {
     "name": "stdout",
     "output_type": "stream",
     "text": [
      "{'criterion': 'entropy', 'max_depth': 6}\n",
      "0.9894288808435607\n"
     ]
    }
   ],
   "source": [
    "print(search.best_params_)\n",
    "print(search.best_score_)"
   ]
  },
  {
   "cell_type": "code",
   "execution_count": 46,
   "metadata": {},
   "outputs": [
    {
     "name": "stdout",
     "output_type": "stream",
     "text": [
      "              precision    recall  f1-score   support\n",
      "\n",
      "           0       0.99      0.99      0.99      1354\n",
      "           1       0.92      0.90      0.91       146\n",
      "\n",
      "    accuracy                           0.98      1500\n",
      "   macro avg       0.96      0.94      0.95      1500\n",
      "weighted avg       0.98      0.98      0.98      1500\n",
      "\n"
     ]
    }
   ],
   "source": [
    "print(classification_report(y_test,search.predict(X_test)))"
   ]
  },
  {
   "cell_type": "markdown",
   "metadata": {},
   "source": [
    "**---------------------------------------------------------------------------------------------------------------------------------------------------------------------------------------------------------------**\n",
    "\n",
    "**---------------------------------------------------------------------------------------------------------------------------------------------------------------------------------------------------------------**"
   ]
  },
  {
   "cell_type": "markdown",
   "metadata": {},
   "source": [
    "**---------------------------------------------------------------------------------------------------------------------------------------------------------------------------------------------------------------**\n",
    "\n",
    "**---------------------------------------------------------------------------------------------------------------------------------------------------------------------------------------------------------------**"
   ]
  },
  {
   "cell_type": "markdown",
   "metadata": {},
   "source": [
    "## 3. Random Forest Model\n",
    "### 3.1 Original Data"
   ]
  },
  {
   "cell_type": "code",
   "execution_count": 67,
   "metadata": {},
   "outputs": [
    {
     "data": {
      "text/plain": [
       "RandomForestClassifier(bootstrap=True, ccp_alpha=0.0, class_weight='balanced',\n",
       "                       criterion='gini', max_depth=None, max_features='auto',\n",
       "                       max_leaf_nodes=None, max_samples=None,\n",
       "                       min_impurity_decrease=0.0, min_impurity_split=None,\n",
       "                       min_samples_leaf=1, min_samples_split=2,\n",
       "                       min_weight_fraction_leaf=0.0, n_estimators=100,\n",
       "                       n_jobs=None, oob_score=False, random_state=None,\n",
       "                       verbose=0, warm_start=False)"
      ]
     },
     "execution_count": 67,
     "metadata": {},
     "output_type": "execute_result"
    }
   ],
   "source": [
    "from sklearn.ensemble import RandomForestClassifier\n",
    "randfor = RandomForestClassifier(n_estimators=100, class_weight='balanced')\n",
    "randfor.fit(X_train, y_train)"
   ]
  },
  {
   "cell_type": "code",
   "execution_count": 68,
   "metadata": {},
   "outputs": [
    {
     "name": "stdout",
     "output_type": "stream",
     "text": [
      "              precision    recall  f1-score   support\n",
      "\n",
      "           0       1.00      1.00      1.00      1354\n",
      "           1       0.99      0.99      0.99       146\n",
      "\n",
      "    accuracy                           1.00      1500\n",
      "   macro avg       0.99      1.00      0.99      1500\n",
      "weighted avg       1.00      1.00      1.00      1500\n",
      "\n"
     ]
    }
   ],
   "source": [
    "print(classification_report(y_test,randfor.predict(X_test)))"
   ]
  },
  {
   "cell_type": "markdown",
   "metadata": {},
   "source": [
    "**---------------------------------------------------------------------------------------------------------------------------------------------------------------------------------------------------------------**"
   ]
  },
  {
   "cell_type": "markdown",
   "metadata": {},
   "source": [
    "### 3.2 Oversampled Data"
   ]
  },
  {
   "cell_type": "code",
   "execution_count": 69,
   "metadata": {},
   "outputs": [
    {
     "data": {
      "text/plain": [
       "RandomForestClassifier(bootstrap=True, ccp_alpha=0.0, class_weight='balanced',\n",
       "                       criterion='gini', max_depth=None, max_features='auto',\n",
       "                       max_leaf_nodes=None, max_samples=None,\n",
       "                       min_impurity_decrease=0.0, min_impurity_split=None,\n",
       "                       min_samples_leaf=1, min_samples_split=2,\n",
       "                       min_weight_fraction_leaf=0.0, n_estimators=100,\n",
       "                       n_jobs=None, oob_score=False, random_state=None,\n",
       "                       verbose=0, warm_start=False)"
      ]
     },
     "execution_count": 69,
     "metadata": {},
     "output_type": "execute_result"
    }
   ],
   "source": [
    "randfor.fit(X_train_ovsampled, y_train_ovsampled)"
   ]
  },
  {
   "cell_type": "code",
   "execution_count": 70,
   "metadata": {},
   "outputs": [
    {
     "name": "stdout",
     "output_type": "stream",
     "text": [
      "              precision    recall  f1-score   support\n",
      "\n",
      "           0       0.99      0.99      0.99      1354\n",
      "           1       0.94      0.92      0.93       146\n",
      "\n",
      "    accuracy                           0.99      1500\n",
      "   macro avg       0.96      0.96      0.96      1500\n",
      "weighted avg       0.99      0.99      0.99      1500\n",
      "\n"
     ]
    }
   ],
   "source": [
    "print(classification_report(y_test,randfor.predict(X_test)))"
   ]
  },
  {
   "cell_type": "markdown",
   "metadata": {},
   "source": [
    "**---------------------------------------------------------------------------------------------------------------------------------------------------------------------------------------------------------------**\n",
    "\n",
    "**---------------------------------------------------------------------------------------------------------------------------------------------------------------------------------------------------------------**"
   ]
  },
  {
   "cell_type": "markdown",
   "metadata": {},
   "source": [
    "## Feature Importance"
   ]
  },
  {
   "cell_type": "code",
   "execution_count": 51,
   "metadata": {},
   "outputs": [
    {
     "data": {
      "text/plain": [
       "Text(0.5, 1.0, 'Feature Importances')"
      ]
     },
     "execution_count": 51,
     "metadata": {},
     "output_type": "execute_result"
    },
    {
     "data": {
      "image/png": "[encoded data removed]",
      "text/plain": [
       "<Figure size 576x576 with 1 Axes>"
      ]
     },
     "metadata": {},
     "output_type": "display_data"
    }
   ],
   "source": [
    "rf_feature =  pd.Series(randfor.feature_importances_, data_scal.columns).sort_values(ascending = True)\n",
    "plt.figure(figsize = (8,8))\n",
    "plt.barh(data_scal.columns, rf_feature)\n",
    "plt.xlabel('Mean Impurity Reduction', fontsize = 12)\n",
    "plt.ylabel('Features', fontsize = 12)\n",
    "plt.yticks(fontsize = 12)\n",
    "plt.title('Feature Importances', fontsize = 20)"
   ]
  },
  {
   "cell_type": "markdown",
   "metadata": {},
   "source": [
    "**---------------------------------------------------------------------------------------------------------------------------------------------------------------------------------------------------------------**"
   ]
  },
  {
   "cell_type": "markdown",
   "metadata": {},
   "source": [
    "## Permutation Importance"
   ]
  },
  {
   "cell_type": "code",
   "execution_count": 52,
   "metadata": {},
   "outputs": [
    {
     "data": {
      "text/html": [
       "\n",
       "    <style>\n",
       "    table.eli5-weights tr:hover {\n",
       "        filter: brightness(85%);\n",
       "    }\n",
       "</style>\n",
       "\n",
       "\n",
       "\n",
       "    \n",
       "\n",
       "    \n",
       "\n",
       "    \n",
       "\n",
       "    \n",
       "\n",
       "    \n",
       "\n",
       "    \n",
       "\n",
       "\n",
       "    \n",
       "\n",
       "    \n",
       "\n",
       "    \n",
       "\n",
       "    \n",
       "\n",
       "    \n",
       "\n",
       "    \n",
       "\n",
       "\n",
       "    \n",
       "\n",
       "    \n",
       "\n",
       "    \n",
       "\n",
       "    \n",
       "\n",
       "    \n",
       "        <table class=\"eli5-weights eli5-feature-importances\" style=\"border-collapse: collapse; border: none; margin-top: 0em; table-layout: auto;\">\n",
       "    <thead>\n",
       "    <tr style=\"border: none;\">\n",
       "        <th style=\"padding: 0 1em 0 0.5em; text-align: right; border: none;\">Weight</th>\n",
       "        <th style=\"padding: 0 0.5em 0 0.5em; text-align: left; border: none;\">Feature</th>\n",
       "    </tr>\n",
       "    </thead>\n",
       "    <tbody>\n",
       "    \n",
       "        <tr style=\"background-color: hsl(120, 100.00%, 80.00%); border: none;\">\n",
       "            <td style=\"padding: 0 1em 0 0.5em; text-align: right; border: none;\">\n",
       "                0.2095\n",
       "                \n",
       "                    &plusmn; 0.0171\n",
       "                \n",
       "            </td>\n",
       "            <td style=\"padding: 0 0.5em 0 0.5em; text-align: left; border: none;\">\n",
       "                Income\n",
       "            </td>\n",
       "        </tr>\n",
       "    \n",
       "        <tr style=\"background-color: hsl(120, 100.00%, 93.30%); border: none;\">\n",
       "            <td style=\"padding: 0 1em 0 0.5em; text-align: right; border: none;\">\n",
       "                0.0440\n",
       "                \n",
       "                    &plusmn; 0.0062\n",
       "                \n",
       "            </td>\n",
       "            <td style=\"padding: 0 0.5em 0 0.5em; text-align: left; border: none;\">\n",
       "                CCAvg\n",
       "            </td>\n",
       "        </tr>\n",
       "    \n",
       "        <tr style=\"background-color: hsl(120, 100.00%, 93.37%); border: none;\">\n",
       "            <td style=\"padding: 0 1em 0 0.5em; text-align: right; border: none;\">\n",
       "                0.0433\n",
       "                \n",
       "                    &plusmn; 0.0050\n",
       "                \n",
       "            </td>\n",
       "            <td style=\"padding: 0 0.5em 0 0.5em; text-align: left; border: none;\">\n",
       "                Education_3\n",
       "            </td>\n",
       "        </tr>\n",
       "    \n",
       "        <tr style=\"background-color: hsl(120, 100.00%, 94.60%); border: none;\">\n",
       "            <td style=\"padding: 0 1em 0 0.5em; text-align: right; border: none;\">\n",
       "                0.0323\n",
       "                \n",
       "                    &plusmn; 0.0063\n",
       "                \n",
       "            </td>\n",
       "            <td style=\"padding: 0 0.5em 0 0.5em; text-align: left; border: none;\">\n",
       "                Education_2\n",
       "            </td>\n",
       "        </tr>\n",
       "    \n",
       "        <tr style=\"background-color: hsl(120, 100.00%, 96.63%); border: none;\">\n",
       "            <td style=\"padding: 0 1em 0 0.5em; text-align: right; border: none;\">\n",
       "                0.0165\n",
       "                \n",
       "                    &plusmn; 0.0011\n",
       "                \n",
       "            </td>\n",
       "            <td style=\"padding: 0 0.5em 0 0.5em; text-align: left; border: none;\">\n",
       "                Family_3\n",
       "            </td>\n",
       "        </tr>\n",
       "    \n",
       "        <tr style=\"background-color: hsl(120, 100.00%, 97.18%); border: none;\">\n",
       "            <td style=\"padding: 0 1em 0 0.5em; text-align: right; border: none;\">\n",
       "                0.0128\n",
       "                \n",
       "                    &plusmn; 0.0023\n",
       "                \n",
       "            </td>\n",
       "            <td style=\"padding: 0 0.5em 0 0.5em; text-align: left; border: none;\">\n",
       "                Family_4\n",
       "            </td>\n",
       "        </tr>\n",
       "    \n",
       "        <tr style=\"background-color: hsl(120, 100.00%, 99.42%); border: none;\">\n",
       "            <td style=\"padding: 0 1em 0 0.5em; text-align: right; border: none;\">\n",
       "                0.0013\n",
       "                \n",
       "                    &plusmn; 0.0009\n",
       "                \n",
       "            </td>\n",
       "            <td style=\"padding: 0 0.5em 0 0.5em; text-align: left; border: none;\">\n",
       "                CD Account_1\n",
       "            </td>\n",
       "        </tr>\n",
       "    \n",
       "        <tr style=\"background-color: hsl(120, 100.00%, 99.66%); border: none;\">\n",
       "            <td style=\"padding: 0 1em 0 0.5em; text-align: right; border: none;\">\n",
       "                0.0006\n",
       "                \n",
       "                    &plusmn; 0.0007\n",
       "                \n",
       "            </td>\n",
       "            <td style=\"padding: 0 0.5em 0 0.5em; text-align: left; border: none;\">\n",
       "                Experience\n",
       "            </td>\n",
       "        </tr>\n",
       "    \n",
       "        <tr style=\"background-color: hsl(120, 100.00%, 99.66%); border: none;\">\n",
       "            <td style=\"padding: 0 1em 0 0.5em; text-align: right; border: none;\">\n",
       "                0.0006\n",
       "                \n",
       "                    &plusmn; 0.0004\n",
       "                \n",
       "            </td>\n",
       "            <td style=\"padding: 0 0.5em 0 0.5em; text-align: left; border: none;\">\n",
       "                Family_2\n",
       "            </td>\n",
       "        </tr>\n",
       "    \n",
       "        <tr style=\"background-color: hsl(120, 100.00%, 99.72%); border: none;\">\n",
       "            <td style=\"padding: 0 1em 0 0.5em; text-align: right; border: none;\">\n",
       "                0.0005\n",
       "                \n",
       "                    &plusmn; 0.0006\n",
       "                \n",
       "            </td>\n",
       "            <td style=\"padding: 0 0.5em 0 0.5em; text-align: left; border: none;\">\n",
       "                Age\n",
       "            </td>\n",
       "        </tr>\n",
       "    \n",
       "        <tr style=\"background-color: hsl(120, 100.00%, 99.77%); border: none;\">\n",
       "            <td style=\"padding: 0 1em 0 0.5em; text-align: right; border: none;\">\n",
       "                0.0004\n",
       "                \n",
       "                    &plusmn; 0.0002\n",
       "                \n",
       "            </td>\n",
       "            <td style=\"padding: 0 0.5em 0 0.5em; text-align: left; border: none;\">\n",
       "                CreditCard_1\n",
       "            </td>\n",
       "        </tr>\n",
       "    \n",
       "        <tr style=\"background-color: hsl(120, 100.00%, 99.85%); border: none;\">\n",
       "            <td style=\"padding: 0 1em 0 0.5em; text-align: right; border: none;\">\n",
       "                0.0002\n",
       "                \n",
       "                    &plusmn; 0.0002\n",
       "                \n",
       "            </td>\n",
       "            <td style=\"padding: 0 0.5em 0 0.5em; text-align: left; border: none;\">\n",
       "                Online_1\n",
       "            </td>\n",
       "        </tr>\n",
       "    \n",
       "        <tr style=\"background-color: hsl(120, 100.00%, 99.88%); border: none;\">\n",
       "            <td style=\"padding: 0 1em 0 0.5em; text-align: right; border: none;\">\n",
       "                0.0001\n",
       "                \n",
       "                    &plusmn; 0.0003\n",
       "                \n",
       "            </td>\n",
       "            <td style=\"padding: 0 0.5em 0 0.5em; text-align: left; border: none;\">\n",
       "                Mortgage\n",
       "            </td>\n",
       "        </tr>\n",
       "    \n",
       "        <tr style=\"background-color: hsl(120, 100.00%, 99.92%); border: none;\">\n",
       "            <td style=\"padding: 0 1em 0 0.5em; text-align: right; border: none;\">\n",
       "                0.0001\n",
       "                \n",
       "                    &plusmn; 0.0001\n",
       "                \n",
       "            </td>\n",
       "            <td style=\"padding: 0 0.5em 0 0.5em; text-align: left; border: none;\">\n",
       "                Securities Account_1\n",
       "            </td>\n",
       "        </tr>\n",
       "    \n",
       "    \n",
       "    </tbody>\n",
       "</table>\n",
       "    \n",
       "\n",
       "    \n",
       "\n",
       "\n",
       "    \n",
       "\n",
       "    \n",
       "\n",
       "    \n",
       "\n",
       "    \n",
       "\n",
       "    \n",
       "\n",
       "    \n",
       "\n",
       "\n",
       "\n"
      ],
      "text/plain": [
       "<IPython.core.display.HTML object>"
      ]
     },
     "execution_count": 52,
     "metadata": {},
     "output_type": "execute_result"
    }
   ],
   "source": [
    "import eli5\n",
    "from eli5.sklearn import PermutationImportance\n",
    "from eli5 import show_weights\n",
    "\n",
    "RFmodel = RandomForestClassifier()\n",
    "RFmodel.fit(X_train,y_train)\n",
    "\n",
    "perm = PermutationImportance(RFmodel, scoring = 'roc_auc', random_state= 101).fit(X_test, y_test)\n",
    "show_weights(perm, feature_names = list(X_test.columns))"
   ]
  },
  {
   "cell_type": "markdown",
   "metadata": {},
   "source": [
    "**---------------------------------------------------------------------------------------------------------------------------------------------------------------------------------------------------------------**\n",
    "\n",
    "**---------------------------------------------------------------------------------------------------------------------------------------------------------------------------------------------------------------**"
   ]
  },
  {
   "cell_type": "code",
   "execution_count": 53,
   "metadata": {},
   "outputs": [],
   "source": [
    "### MODEL USE DATA TRAIN BASED ON TOP FEATURE IMPORTANCE & PERMUTATION IMPORTANCE"
   ]
  },
  {
   "cell_type": "code",
   "execution_count": 71,
   "metadata": {},
   "outputs": [
    {
     "data": {
      "text/plain": [
       "Index(['Age', 'Experience', 'Income', 'CCAvg', 'Mortgage', 'Family_2',\n",
       "       'Family_3', 'Family_4', 'Education_2', 'Education_3',\n",
       "       'Securities Account_1', 'CD Account_1', 'Online_1', 'CreditCard_1'],\n",
       "      dtype='object')"
      ]
     },
     "execution_count": 71,
     "metadata": {},
     "output_type": "execute_result"
    }
   ],
   "source": [
    "data_scal.columns"
   ]
  },
  {
   "cell_type": "code",
   "execution_count": 72,
   "metadata": {},
   "outputs": [],
   "source": [
    "xtr, xts, ytr, yts = train_test_split(data_scal[['CreditCard_1','Online_1','Income','Education_3','CCAvg','Education_2']], \n",
    "                                      target, test_size = 0.3, random_state = 101)"
   ]
  },
  {
   "cell_type": "code",
   "execution_count": 73,
   "metadata": {},
   "outputs": [
    {
     "data": {
      "text/plain": [
       "RandomForestClassifier(bootstrap=True, ccp_alpha=0.0, class_weight='balanced',\n",
       "                       criterion='gini', max_depth=None, max_features='auto',\n",
       "                       max_leaf_nodes=None, max_samples=None,\n",
       "                       min_impurity_decrease=0.0, min_impurity_split=None,\n",
       "                       min_samples_leaf=1, min_samples_split=2,\n",
       "                       min_weight_fraction_leaf=0.0, n_estimators=100,\n",
       "                       n_jobs=None, oob_score=False, random_state=None,\n",
       "                       verbose=0, warm_start=False)"
      ]
     },
     "execution_count": 73,
     "metadata": {},
     "output_type": "execute_result"
    }
   ],
   "source": [
    "rf = RandomForestClassifier(n_estimators=100, class_weight='balanced')\n",
    "rf.fit(xtr, ytr)"
   ]
  },
  {
   "cell_type": "code",
   "execution_count": 74,
   "metadata": {},
   "outputs": [
    {
     "name": "stdout",
     "output_type": "stream",
     "text": [
      "              precision    recall  f1-score   support\n",
      "\n",
      "           0       0.97      0.99      0.98      1354\n",
      "           1       0.94      0.69      0.80       146\n",
      "\n",
      "    accuracy                           0.97      1500\n",
      "   macro avg       0.95      0.84      0.89      1500\n",
      "weighted avg       0.96      0.97      0.96      1500\n",
      "\n"
     ]
    }
   ],
   "source": [
    "print(classification_report(y_test,rf.predict(xts)))"
   ]
  },
  {
   "cell_type": "markdown",
   "metadata": {},
   "source": [
    "**---------------------------------------------------------------------------------------------------------------------------------------------------------------------------------------------------------------**\n",
    "\n",
    "**---------------------------------------------------------------------------------------------------------------------------------------------------------------------------------------------------------------**"
   ]
  },
  {
   "cell_type": "markdown",
   "metadata": {},
   "source": [
    "## K-Fold Cross Validation"
   ]
  },
  {
   "cell_type": "code",
   "execution_count": 58,
   "metadata": {},
   "outputs": [
    {
     "name": "stdout",
     "output_type": "stream",
     "text": [
      "0.9608571428571429\n"
     ]
    }
   ],
   "source": [
    "from sklearn.model_selection import cross_val_score\n",
    "print(cross_val_score(LogisticRegression(solver='lbfgs'),X_train,y_train,cv = 5).mean())"
   ]
  },
  {
   "cell_type": "code",
   "execution_count": 59,
   "metadata": {},
   "outputs": [
    {
     "name": "stdout",
     "output_type": "stream",
     "text": [
      "0.9828571428571429\n"
     ]
    }
   ],
   "source": [
    "print(cross_val_score(DecisionTreeClassifier(),X_train,y_train,cv = 5).mean())"
   ]
  },
  {
   "cell_type": "code",
   "execution_count": 75,
   "metadata": {},
   "outputs": [
    {
     "name": "stdout",
     "output_type": "stream",
     "text": [
      "0.9931240130135158\n"
     ]
    }
   ],
   "source": [
    "print(cross_val_score(RandomForestClassifier(n_estimators=100, class_weight='balanced'),X_train,y_train,cv = 5).mean())"
   ]
  },
  {
   "cell_type": "code",
   "execution_count": 61,
   "metadata": {},
   "outputs": [],
   "source": [
    "from sklearn.model_selection import KFold\n",
    "K = 10\n",
    "kf = KFold(n_splits = K, shuffle = True, random_state = 42)"
   ]
  },
  {
   "cell_type": "code",
   "execution_count": 62,
   "metadata": {},
   "outputs": [],
   "source": [
    "from sklearn.metrics import classification_report, confusion_matrix, accuracy_score, roc_auc_score, f1_score, log_loss, matthews_corrcoef"
   ]
  },
  {
   "cell_type": "code",
   "execution_count": 63,
   "metadata": {},
   "outputs": [],
   "source": [
    "def calc_train_error(X_train, y_train, model):\n",
    "    predictions = model.predict(X_train)\n",
    "    predictProba = model.predict_proba(X_train)\n",
    "    matt = matthews_corrcoef(y_train, predictions)\n",
    "    f1 = f1_score(y_train, predictions, average = 'macro')\n",
    "    report = classification_report(y_train, predictions)\n",
    "    roc_auc = roc_auc_score(y_train, predictProba[:,1])\n",
    "    accuracy = accuracy_score(y_train, predictions)\n",
    "    confMatrix = confusion_matrix(y_train, predictions)\n",
    "    logloss = log_loss(y_train, predictProba)\n",
    "    return {\n",
    "        'report' : report,\n",
    "        'matthew' : matt,\n",
    "        'f1' : f1,\n",
    "        'roc' : roc_auc,\n",
    "        'accuracy' : accuracy,\n",
    "        'confusion' : confMatrix,\n",
    "        'logloss' : logloss\n",
    "    }\n",
    "\n",
    "def calc_validation_error(X_test, y_test, model):\n",
    "    predictions = model.predict(X_test)\n",
    "    predictProba = model.predict_proba(X_test)\n",
    "    matt = matthews_corrcoef(y_test, predictions)\n",
    "    f1 = f1_score(y_test, predictions, average = 'macro')\n",
    "    report = classification_report(y_test, predictions)\n",
    "    roc_auc = roc_auc_score(y_test, predictProba[:,1])\n",
    "    accuracy = accuracy_score(y_test, predictions)\n",
    "    confMatrix = confusion_matrix(y_test, predictions)\n",
    "    logloss = log_loss(y_test, predictProba)\n",
    "    return {\n",
    "        'report' : report,\n",
    "        'matthew' : matt,\n",
    "        'f1' : f1,\n",
    "        'roc' : roc_auc,\n",
    "        'accuracy' : accuracy,\n",
    "        'confusion' : confMatrix,\n",
    "        'logloss' : logloss\n",
    "    }\n",
    "\n",
    "def calc_metrics(X_train, y_train, X_test, y_test, model):\n",
    "    model.fit(X_train, y_train)\n",
    "    train_error = calc_train_error(X_train, y_train, model)\n",
    "    validation_error = calc_validation_error(X_test, y_test, model)\n",
    "    return train_error, validation_error"
   ]
  },
  {
   "cell_type": "code",
   "execution_count": 76,
   "metadata": {},
   "outputs": [],
   "source": [
    "train_errors = []\n",
    "validation_errors =[]\n",
    "for train_index, val_index, in kf.split(data_scal, target):\n",
    "    \n",
    "    #split data\n",
    "    X_train, X_val = data_scal.iloc[train_index], data_scal.iloc[val_index]\n",
    "    y_train, y_val = target.iloc[train_index], target.iloc[val_index]\n",
    "    \n",
    "    #Oversampling\n",
    "    sm = SMOTE(sampling_strategy='minority')\n",
    "    X_train, y_train = sm.fit_sample(X_train, y_train)\n",
    "    \n",
    "    #instantiate model\n",
    "    logmodel = RandomForestClassifier(n_estimators=350, min_samples_leaf=10,class_weight='balanced')\n",
    "    \n",
    "    #calculate errors\n",
    "    train_error, val_error = calc_metrics(X_train, y_train, X_val, y_val, logmodel)\n",
    "    \n",
    "    #append to appropiate list\n",
    "    train_errors.append(train_error)\n",
    "    validation_errors.append(val_error)"
   ]
  },
  {
   "cell_type": "code",
   "execution_count": 77,
   "metadata": {},
   "outputs": [
    {
     "data": {
      "text/html": [
       "<div>\n",
       "<style scoped>\n",
       "    .dataframe tbody tr th:only-of-type {\n",
       "        vertical-align: middle;\n",
       "    }\n",
       "\n",
       "    .dataframe tbody tr th {\n",
       "        vertical-align: top;\n",
       "    }\n",
       "\n",
       "    .dataframe thead th {\n",
       "        text-align: right;\n",
       "    }\n",
       "</style>\n",
       "<table border=\"1\" class=\"dataframe\">\n",
       "  <thead>\n",
       "    <tr style=\"text-align: right;\">\n",
       "      <th></th>\n",
       "      <th>Train Accuracy</th>\n",
       "      <th>Test Accuracy</th>\n",
       "      <th>Train ROC AUC</th>\n",
       "      <th>Test ROC AUC</th>\n",
       "      <th>Train F1 Score</th>\n",
       "      <th>Test F1 Score</th>\n",
       "      <th>Train Matthews Corr Coef</th>\n",
       "      <th>Test Matthews Corr Coef</th>\n",
       "      <th>Train Log Loss</th>\n",
       "      <th>Test Log Loss</th>\n",
       "    </tr>\n",
       "  </thead>\n",
       "  <tbody>\n",
       "    <tr>\n",
       "      <th>1 Iteration</th>\n",
       "      <td>0.989936</td>\n",
       "      <td>0.9880</td>\n",
       "      <td>0.999688</td>\n",
       "      <td>0.999128</td>\n",
       "      <td>0.989936</td>\n",
       "      <td>0.969836</td>\n",
       "      <td>0.979889</td>\n",
       "      <td>0.940442</td>\n",
       "      <td>0.071505</td>\n",
       "      <td>0.085320</td>\n",
       "    </tr>\n",
       "    <tr>\n",
       "      <th>2 Iteration</th>\n",
       "      <td>0.991034</td>\n",
       "      <td>0.9900</td>\n",
       "      <td>0.999658</td>\n",
       "      <td>0.998166</td>\n",
       "      <td>0.991034</td>\n",
       "      <td>0.972467</td>\n",
       "      <td>0.982073</td>\n",
       "      <td>0.944991</td>\n",
       "      <td>0.070605</td>\n",
       "      <td>0.080308</td>\n",
       "    </tr>\n",
       "    <tr>\n",
       "      <th>3 Iteration</th>\n",
       "      <td>0.991036</td>\n",
       "      <td>0.9880</td>\n",
       "      <td>0.999676</td>\n",
       "      <td>0.997296</td>\n",
       "      <td>0.991036</td>\n",
       "      <td>0.968342</td>\n",
       "      <td>0.982076</td>\n",
       "      <td>0.936896</td>\n",
       "      <td>0.070475</td>\n",
       "      <td>0.097634</td>\n",
       "    </tr>\n",
       "    <tr>\n",
       "      <th>4 Iteration</th>\n",
       "      <td>0.991511</td>\n",
       "      <td>0.9820</td>\n",
       "      <td>0.999713</td>\n",
       "      <td>0.996411</td>\n",
       "      <td>0.991511</td>\n",
       "      <td>0.945599</td>\n",
       "      <td>0.983024</td>\n",
       "      <td>0.891796</td>\n",
       "      <td>0.069839</td>\n",
       "      <td>0.097237</td>\n",
       "    </tr>\n",
       "    <tr>\n",
       "      <th>5 Iteration</th>\n",
       "      <td>0.991779</td>\n",
       "      <td>0.9800</td>\n",
       "      <td>0.999674</td>\n",
       "      <td>0.997998</td>\n",
       "      <td>0.991779</td>\n",
       "      <td>0.951240</td>\n",
       "      <td>0.983559</td>\n",
       "      <td>0.904063</td>\n",
       "      <td>0.069249</td>\n",
       "      <td>0.095627</td>\n",
       "    </tr>\n",
       "    <tr>\n",
       "      <th>6 Iteration</th>\n",
       "      <td>0.992023</td>\n",
       "      <td>0.9740</td>\n",
       "      <td>0.999784</td>\n",
       "      <td>0.986879</td>\n",
       "      <td>0.992023</td>\n",
       "      <td>0.933072</td>\n",
       "      <td>0.984052</td>\n",
       "      <td>0.866191</td>\n",
       "      <td>0.067064</td>\n",
       "      <td>0.102833</td>\n",
       "    </tr>\n",
       "    <tr>\n",
       "      <th>7 Iteration</th>\n",
       "      <td>0.991632</td>\n",
       "      <td>0.9860</td>\n",
       "      <td>0.999750</td>\n",
       "      <td>0.995725</td>\n",
       "      <td>0.991632</td>\n",
       "      <td>0.956832</td>\n",
       "      <td>0.983278</td>\n",
       "      <td>0.914300</td>\n",
       "      <td>0.069820</td>\n",
       "      <td>0.090635</td>\n",
       "    </tr>\n",
       "    <tr>\n",
       "      <th>8 Iteration</th>\n",
       "      <td>0.990754</td>\n",
       "      <td>0.9880</td>\n",
       "      <td>0.999668</td>\n",
       "      <td>0.999521</td>\n",
       "      <td>0.990754</td>\n",
       "      <td>0.958285</td>\n",
       "      <td>0.981517</td>\n",
       "      <td>0.919815</td>\n",
       "      <td>0.069724</td>\n",
       "      <td>0.088155</td>\n",
       "    </tr>\n",
       "    <tr>\n",
       "      <th>9 Iteration</th>\n",
       "      <td>0.991500</td>\n",
       "      <td>0.9700</td>\n",
       "      <td>0.999650</td>\n",
       "      <td>0.995995</td>\n",
       "      <td>0.991500</td>\n",
       "      <td>0.907498</td>\n",
       "      <td>0.983012</td>\n",
       "      <td>0.822856</td>\n",
       "      <td>0.071660</td>\n",
       "      <td>0.091487</td>\n",
       "    </tr>\n",
       "    <tr>\n",
       "      <th>10 Iteration</th>\n",
       "      <td>0.992510</td>\n",
       "      <td>0.9760</td>\n",
       "      <td>0.999751</td>\n",
       "      <td>0.987165</td>\n",
       "      <td>0.992510</td>\n",
       "      <td>0.937718</td>\n",
       "      <td>0.985028</td>\n",
       "      <td>0.876212</td>\n",
       "      <td>0.067485</td>\n",
       "      <td>0.103543</td>\n",
       "    </tr>\n",
       "    <tr>\n",
       "      <th>Average</th>\n",
       "      <td>0.991372</td>\n",
       "      <td>0.9822</td>\n",
       "      <td>0.999701</td>\n",
       "      <td>0.995429</td>\n",
       "      <td>0.991372</td>\n",
       "      <td>0.950089</td>\n",
       "      <td>0.982751</td>\n",
       "      <td>0.901756</td>\n",
       "      <td>0.069743</td>\n",
       "      <td>0.093278</td>\n",
       "    </tr>\n",
       "  </tbody>\n",
       "</table>\n",
       "</div>"
      ],
      "text/plain": [
       "              Train Accuracy  Test Accuracy  Train ROC AUC  Test ROC AUC  \\\n",
       "1 Iteration         0.989936         0.9880       0.999688      0.999128   \n",
       "2 Iteration         0.991034         0.9900       0.999658      0.998166   \n",
       "3 Iteration         0.991036         0.9880       0.999676      0.997296   \n",
       "4 Iteration         0.991511         0.9820       0.999713      0.996411   \n",
       "5 Iteration         0.991779         0.9800       0.999674      0.997998   \n",
       "6 Iteration         0.992023         0.9740       0.999784      0.986879   \n",
       "7 Iteration         0.991632         0.9860       0.999750      0.995725   \n",
       "8 Iteration         0.990754         0.9880       0.999668      0.999521   \n",
       "9 Iteration         0.991500         0.9700       0.999650      0.995995   \n",
       "10 Iteration        0.992510         0.9760       0.999751      0.987165   \n",
       "Average             0.991372         0.9822       0.999701      0.995429   \n",
       "\n",
       "              Train F1 Score  Test F1 Score  Train Matthews Corr Coef  \\\n",
       "1 Iteration         0.989936       0.969836                  0.979889   \n",
       "2 Iteration         0.991034       0.972467                  0.982073   \n",
       "3 Iteration         0.991036       0.968342                  0.982076   \n",
       "4 Iteration         0.991511       0.945599                  0.983024   \n",
       "5 Iteration         0.991779       0.951240                  0.983559   \n",
       "6 Iteration         0.992023       0.933072                  0.984052   \n",
       "7 Iteration         0.991632       0.956832                  0.983278   \n",
       "8 Iteration         0.990754       0.958285                  0.981517   \n",
       "9 Iteration         0.991500       0.907498                  0.983012   \n",
       "10 Iteration        0.992510       0.937718                  0.985028   \n",
       "Average             0.991372       0.950089                  0.982751   \n",
       "\n",
       "              Test Matthews Corr Coef  Train Log Loss  Test Log Loss  \n",
       "1 Iteration                  0.940442        0.071505       0.085320  \n",
       "2 Iteration                  0.944991        0.070605       0.080308  \n",
       "3 Iteration                  0.936896        0.070475       0.097634  \n",
       "4 Iteration                  0.891796        0.069839       0.097237  \n",
       "5 Iteration                  0.904063        0.069249       0.095627  \n",
       "6 Iteration                  0.866191        0.067064       0.102833  \n",
       "7 Iteration                  0.914300        0.069820       0.090635  \n",
       "8 Iteration                  0.919815        0.069724       0.088155  \n",
       "9 Iteration                  0.822856        0.071660       0.091487  \n",
       "10 Iteration                 0.876212        0.067485       0.103543  \n",
       "Average                      0.901756        0.069743       0.093278  "
      ]
     },
     "execution_count": 77,
     "metadata": {},
     "output_type": "execute_result"
    }
   ],
   "source": [
    "matrix = []\n",
    "for i, j in zip(train_errors, validation_errors):\n",
    "    matrix.append([i['accuracy'], j['accuracy'], i['roc'], j['roc'],\n",
    "                  i['f1'], j['f1'], i['matthew'], j['matthew'], i['logloss'], j['logloss']])\n",
    "calc_matrix = pd.DataFrame(matrix, columns = ['Train Accuracy', 'Test Accuracy', 'Train ROC AUC',\n",
    "                                             'Test ROC AUC', 'Train F1 Score', 'Test F1 Score', 'Train Matthews Corr Coef',\n",
    "                                             'Test Matthews Corr Coef', 'Train Log Loss', 'Test Log Loss'])\n",
    "average = []\n",
    "for i in calc_matrix.columns:\n",
    "    average.append(calc_matrix[i].mean())\n",
    "average_mat = pd.DataFrame(average).transpose()\n",
    "average_mat.columns = ['Train Accuracy', 'Test Accuracy', 'Train ROC AUC',\n",
    "                                             'Test ROC AUC', 'Train F1 Score', 'Test F1 Score', 'Train Matthews Corr Coef',\n",
    "                                             'Test Matthews Corr Coef', 'Train Log Loss', 'Test Log Loss']\n",
    "index_label = []\n",
    "for i in range(1, len(calc_matrix)+1):\n",
    "    index_label.append(f'{i} Iteration')\n",
    "index_label.append('Average')\n",
    "calculation = pd.concat([calc_matrix, average_mat])\n",
    "calculation.index = index_label\n",
    "calculation"
   ]
  },
  {
   "cell_type": "code",
   "execution_count": 78,
   "metadata": {},
   "outputs": [
    {
     "name": "stdout",
     "output_type": "stream",
     "text": [
      "train_scores:\n",
      "\n",
      "[[0.9705     0.963      0.968      0.973      0.9675    ]\n",
      " [0.9776     0.9712     0.9768     0.9736     0.9732    ]\n",
      " [0.98133333 0.977      0.98066667 0.97466667 0.975     ]\n",
      " [0.98       0.97657143 0.982      0.97514286 0.97628571]\n",
      " [0.9795     0.97575    0.97825    0.97825    0.97975   ]]\n",
      "\n",
      "\n",
      "test_scores:\n",
      "\n",
      "[[0.954 0.953 0.95  0.961 0.948]\n",
      " [0.96  0.964 0.964 0.965 0.962]\n",
      " [0.959 0.974 0.97  0.973 0.974]\n",
      " [0.961 0.972 0.975 0.97  0.974]\n",
      " [0.963 0.973 0.971 0.971 0.975]]\n",
      "\n",
      "\n",
      "train_mean:\n",
      "\n",
      "[0.9684     0.97448    0.97773333 0.978      0.9783    ]\n",
      "\n",
      "\n",
      "train_sizes:\n",
      "\n",
      "[2000 2500 3000 3500 4000]\n"
     ]
    },
    {
     "data": {
      "image/png": "[encoded data removed]",
      "text/plain": [
       "<Figure size 432x288 with 1 Axes>"
      ]
     },
     "metadata": {},
     "output_type": "display_data"
    }
   ],
   "source": [
    "from sklearn.model_selection import learning_curve\n",
    "\n",
    "train_sizes, train_scores, test_scores = learning_curve(estimator=logmodel,\n",
    "                                                       X=data_scal,\n",
    "                                                       y=target,\n",
    "                                                       train_sizes=np.linspace(0.5, 1.0, 5),\n",
    "                                                       cv=5)\n",
    "\n",
    "print('train_scores:\\n')\n",
    "print(train_scores)\n",
    "print('\\n\\ntest_scores:\\n')\n",
    "print(test_scores)\n",
    "\n",
    "train_mean = np.mean(train_scores, axis=1)\n",
    "print('\\n\\ntrain_mean:\\n')\n",
    "print(train_mean)\n",
    "print('\\n\\ntrain_sizes:\\n')\n",
    "print(train_sizes)\n",
    "\n",
    "train_std = np.std(train_scores, axis=1)\n",
    "\n",
    "test_mean = np.mean(test_scores, axis=1)\n",
    "test_std = np.std(test_scores, axis=1)\n",
    "\n",
    "\n",
    "plt.plot(train_sizes, train_mean, color='red', marker='o', label='Training Accuracy')\n",
    "\n",
    "plt.fill_between(train_sizes,\n",
    "                train_mean + train_std,\n",
    "                train_mean - train_std,\n",
    "                alpha=0.15, color='red')\n",
    "\n",
    "\n",
    "plt.plot(train_sizes, test_mean, color='blue', linestyle='--', marker='s', \n",
    "        label='Test Accuracy')\n",
    "plt.fill_between(train_sizes,\n",
    "                test_mean + test_std,\n",
    "                test_mean - test_std,\n",
    "                alpha=0.15, color='blue')\n",
    "\n",
    "plt.xlabel('Number of training samples')\n",
    "plt.ylabel('Accuracy')\n",
    "plt.legend()\n",
    "plt.show()"
   ]
  },
  {
   "cell_type": "code",
   "execution_count": null,
   "metadata": {},
   "outputs": [],
   "source": []
  }
 ],
 "metadata": {
  "kernelspec": {
   "display_name": "Python 3",
   "language": "python",
   "name": "python3"
  },
  "language_info": {
   "codemirror_mode": {
    "name": "ipython",
    "version": 3
   },
   "file_extension": ".py",
   "mimetype": "text/x-python",
   "name": "python",
   "nbconvert_exporter": "python",
   "pygments_lexer": "ipython3",
   "version": "3.7.6"
  }
 },
 "nbformat": 4,
 "nbformat_minor": 4
}
